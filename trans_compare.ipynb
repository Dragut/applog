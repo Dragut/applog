{
 "cells": [
  {
   "cell_type": "code",
   "execution_count": 13,
   "metadata": {
    "collapsed": false
   },
   "outputs": [
    {
     "name": "stdout",
     "output_type": "stream",
     "text": [
      "(False, 0.79458912948846439)\n",
      "(357.5, 15.0)\n",
      "(0.9997951249959705, 0.026701813173002624, 1.3265306122448979)\n"
     ]
    }
   ],
   "source": [
    "import pandas as pd\n",
    "import numpy as np\n",
    "from scipy import stats \n",
    "import datetime\n",
    "import matplotlib.pyplot as plt\n",
    "import scipy \n",
    "import cv2\n",
    "\n",
    "\n",
    "def periodmean(filename=\"d:\\IAG\\ORM\\uapwas10-orm-monitor.log\"):\n",
    "    df = pd.read_csv(filename,skiprows=1,header=None)\n",
    "    df.drop(df.columns[[2,3]],axis=1,inplace=True)\n",
    "    columnlist=['StartTime','EndTime','TransactionType','UserID']\n",
    "    df.columns=columnlist\n",
    "\n",
    "    for c in columnlist:\n",
    "        df[c]=df[c].str.extract('=(.*)', expand=False).ffill()\n",
    "\n",
    "    df['StartTime']=pd.to_datetime(df['StartTime'])\n",
    "    df['EndTime']=pd.to_datetime(df['EndTime'])\n",
    "    df['ResponseTime']=df['EndTime']-df['StartTime']\n",
    "    df=df.set_index(['StartTime'])\n",
    "    a=(df.groupby(pd.TimeGrouper('5Min'))['ResponseTime'].sum()/df.groupby(pd.TimeGrouper('5Min'))['ResponseTime'].count())/datetime.timedelta(milliseconds=1)\n",
    "    #b=df.groupby(pd.TimeGrouper('5Min'))['ResponseTime'].describe()    \n",
    "    \n",
    "    return a.dropna()\n",
    "uapwas10=periodmean()\n",
    "uapwas10.drop(uapwas10.idxmax(),inplace=True)\n",
    "uapwas11=periodmean(\"d:\\IAG\\ORM\\uapwas11-orm-monitor.log\")\n",
    "uapwas11.drop(uapwas11.idxmax(),inplace=True)\n",
    "\n",
    "st,p =stats.ttest_ind(uapwas10, uapwas11)\n",
    "if p<0.05:\n",
    "    different=True\n",
    "else:\n",
    "    different=False\n",
    "print(different,p)\n",
    "uapwas10.drop(uapwas10.idxmax(),inplace=True)\n",
    "uapwas11.drop(uapwas11.idxmax(),inplace=True)\n",
    "allmax=max(uapwas10.max(),uapwas11.max())\n",
    "allmin=min(uapwas10.min(),uapwas11.min())\n",
    "print(allmax,allmin)\n",
    "hist0,division0=np.histogram(uapwas10,bins=10,range=(allmin,allmax))\n",
    "hist1,division1=np.histogram(uapwas11,bins=10,range=(allmin,allmax))\n",
    "\n",
    "res0=np.float32(hist0)\n",
    "res1=np.float32(hist1)\n",
    "'''plt.bar(division[:-1], hist, width = 1)\n",
    "plt.xlim(min(division), max(division))\n",
    "plt.show()'''\n",
    "#a=scipy.spatial.distance.mahalanobis(hist0, hist1,np.linalg.inv(np.cov(hist0, hist1)))\n",
    "OPENCV_METHODS = (\n",
    "    (\"Correlation\", cv2.cv.CV_COMP_CORREL),\n",
    "    (\"Chi-Squared\", cv2.cv.CV_COMP_CHISQR),\n",
    "    (\"Intersection\", cv2.cv.CV_COMP_INTERSECT), \n",
    "    (\"Hellinger\", cv2.cv.CV_COMP_BHATTACHARYYA))\n",
    "corr= cv2.compareHist(res0, res1, cv.CV_COMP_CORREL)\n",
    "but=cv2.compareHist(res0, res1, cv2.cv.CV_COMP_BHATTACHARYYA)\n",
    "chi=cv2.compareHist(res0, res1,cv2.cv.CV_COMP_CHISQR)\n",
    "print (corr,but,chi)\n"
   ]
  },
  {
   "cell_type": "code",
   "execution_count": 1,
   "metadata": {
    "collapsed": false
   },
   "outputs": [
    {
     "ename": "AttributeError",
     "evalue": "'module' object has no attribute '_version_'",
     "output_type": "error",
     "traceback": [
      "\u001b[1;31m---------------------------------------------------------------------------\u001b[0m",
      "\u001b[1;31mAttributeError\u001b[0m                            Traceback (most recent call last)",
      "\u001b[1;32m<ipython-input-1-29105c6f87da>\u001b[0m in \u001b[0;36m<module>\u001b[1;34m()\u001b[0m\n\u001b[0;32m      1\u001b[0m \u001b[1;32mimport\u001b[0m \u001b[0mcv2\u001b[0m\u001b[1;33m\u001b[0m\u001b[0m\n\u001b[1;32m----> 2\u001b[1;33m \u001b[1;32mprint\u001b[0m \u001b[0mcv2\u001b[0m\u001b[1;33m.\u001b[0m\u001b[0m_version_\u001b[0m\u001b[1;33m\u001b[0m\u001b[0m\n\u001b[0m",
      "\u001b[1;31mAttributeError\u001b[0m: 'module' object has no attribute '_version_'"
     ]
    }
   ],
   "source": [
    "import cv2\n",
    "print cv2._version_"
   ]
  },
  {
   "cell_type": "code",
   "execution_count": 2,
   "metadata": {
    "collapsed": true
   },
   "outputs": [],
   "source": [
    "import cv\n"
   ]
  },
  {
   "cell_type": "code",
   "execution_count": null,
   "metadata": {
    "collapsed": true
   },
   "outputs": [],
   "source": []
  }
 ],
 "metadata": {
  "kernelspec": {
   "display_name": "Python 2",
   "language": "python",
   "name": "python2"
  },
  "language_info": {
   "codemirror_mode": {
    "name": "ipython",
    "version": 2
   },
   "file_extension": ".py",
   "mimetype": "text/x-python",
   "name": "python",
   "nbconvert_exporter": "python",
   "pygments_lexer": "ipython2",
   "version": "2.7.13"
  }
 },
 "nbformat": 4,
 "nbformat_minor": 0
}
